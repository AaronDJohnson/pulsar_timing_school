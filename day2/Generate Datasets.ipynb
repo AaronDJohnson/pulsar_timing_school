{
 "metadata": {
  "name": "",
  "signature": "sha256:eb28f7e237425f7a77e65077e245361c021e6c2f7f0241c77e0a66cddcc3c8f0"
 },
 "nbformat": 3,
 "nbformat_minor": 0,
 "worksheets": [
  {
   "cells": [
    {
     "cell_type": "code",
     "collapsed": false,
     "input": [
      "import numpy as np\n",
      "import scipy.linalg as sl\n",
      "import libstempo as lt, libstempo.plot as ltp, libstempo.toasim as ltt\n",
      "import matplotlib.pyplot as plt\n",
      "import os, sys, glob\n",
      "%matplotlib inline"
     ],
     "language": "python",
     "metadata": {},
     "outputs": [
      {
       "output_type": "stream",
       "stream": "stdout",
       "text": [
        "Warning: cannot find astropy, units support will not be available.\n"
       ]
      }
     ],
     "prompt_number": 1
    },
    {
     "cell_type": "code",
     "collapsed": false,
     "input": [
      "# Get a list of parfiles\n",
      "psrlist = glob.glob('partim/*.par')"
     ],
     "language": "python",
     "metadata": {},
     "outputs": [],
     "prompt_number": 2
    },
    {
     "cell_type": "code",
     "collapsed": false,
     "input": [
      "# Create simple datasets (similar to Mock Data Challenge)\n",
      "Nobs = 200                          # 200 observations\n",
      "start, stop = 54000.0, 55826.25     # 5 years of baseline\n",
      "vt = 2.0                            # Variance of 2 days in cadence\n",
      "obstimes = np.linspace(start, stop, Nobs)\n",
      "err = 1.0e-1                        # 100ns radiometer noise\n",
      "obs = 'ao'                          # Arecibo observatory\n",
      "\n",
      "psr_d = {}\n",
      "\n",
      "for parfile in psrlist:\n",
      "    psrname = os.path.splitext(parfile)[0]\n",
      "    timfile = psrname + '.tim'\n",
      "    timfile_clean = psrname + '-clean.tim'\n",
      "    \n",
      "    # Generate observation times\n",
      "    psr_obstimes = obstimes + vt * np.random.randn(Nobs)\n",
      "    \n",
      "    # Create the fake pulsar (and save ideal tim-file)\n",
      "    psr = ltt.fakepulsar(parfile, obstimes, err, observatory=obs, iters=5)\n",
      "    ltt.make_ideal(psr)\n",
      "    ltt.add_efac(psr)\n",
      "    \n",
      "    # Save the tim-file (clean, no signal)\n",
      "    psr.savetim(timfile_clean)\n",
      "\n",
      "    psr_d[psrname] = psr"
     ],
     "language": "python",
     "metadata": {},
     "outputs": [],
     "prompt_number": 3
    },
    {
     "cell_type": "code",
     "collapsed": false,
     "input": [
      "%%time\n",
      "# Generate a GWB\n",
      "gwb = lt.GWB(ngw=1000, seed=None, flow=1e-8, fhigh=1e-5, gwAmp=1.0e-14, alpha=-0.66, logspacing=True)"
     ],
     "language": "python",
     "metadata": {},
     "outputs": [
      {
       "output_type": "stream",
       "stream": "stdout",
       "text": [
        "CPU times: user 733 \u00b5s, sys: 25 \u00b5s, total: 758 \u00b5s\n",
        "Wall time: 763 \u00b5s\n"
       ]
      }
     ],
     "prompt_number": 4
    },
    {
     "cell_type": "code",
     "collapsed": false,
     "input": [
      "%%time\n",
      "# Add the GWB to all pulsars, and save the signals\n",
      "for psrname, psr in psr_d.iteritems():\n",
      "    parfile = psrname + '.par'\n",
      "    timfile = psrname + '.tim'\n",
      "    rawfile = psrname + '.txt'\n",
      "    desfile = psrname + '-des.txt'\n",
      "    signal = gwb.gwb_sig(psr, distance=1)\n",
      "    \n",
      "    # Write the new timfile\n",
      "    psr.stoas[:] += signal / 86400.0\n",
      "    psr.savetim(timfile)\n",
      "    \n",
      "    # Write the text file\n",
      "    t = psr.toas()\n",
      "    r = psr.residuals()\n",
      "    e = psr.toaerrs * 1.0e-6\n",
      "    d = psr.designmatrix()\n",
      "    cols = np.array([t, r, e]).T\n",
      "    np.savetxt(rawfile, cols)\n",
      "    np.savetxt(desfile, d)"
     ],
     "language": "python",
     "metadata": {},
     "outputs": [
      {
       "output_type": "stream",
       "stream": "stdout",
       "text": [
        "CPU times: user 8.02 s, sys: 37.8 ms, total: 8.05 s\n",
        "Wall time: 8.07 s\n"
       ]
      }
     ],
     "prompt_number": 5
    },
    {
     "cell_type": "code",
     "collapsed": false,
     "input": [
      "psr = lt.tempopulsar('partim/J0030+0451.par', 'partim/J0030+0451.tim')\n",
      "ltp.plotres(psr)"
     ],
     "language": "python",
     "metadata": {},
     "outputs": [
      {
       "metadata": {},
       "output_type": "display_data",
       "png": "[encoded data removed]",
       "text": [
        "<matplotlib.figure.Figure at 0x111f4a110>"
       ]
      }
     ],
     "prompt_number": 6
    },
    {
     "cell_type": "code",
     "collapsed": false,
     "input": [],
     "language": "python",
     "metadata": {},
     "outputs": []
    }
   ],
   "metadata": {}
  }
 ]
}