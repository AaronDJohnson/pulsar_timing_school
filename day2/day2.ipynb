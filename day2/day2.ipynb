{
 "metadata": {
  "name": "",
  "signature": "sha256:792001d33c22ba97344fc8526d3cbd025724283b0bb1433f6343fee17c9bb9c1"
 },
 "nbformat": 3,
 "nbformat_minor": 0,
 "worksheets": [
  {
   "cells": [
    {
     "cell_type": "code",
     "collapsed": false,
     "input": [
      "import numpy as np\n",
      "import scipy.linalg as sl\n",
      "import scipy.special as ss\n",
      "import libstempo as lt, libstempo.plot as ltp, libstempo.toasim as ltt\n",
      "import matplotlib.pyplot as plt\n",
      "import os, sys, glob\n",
      "import simple_mcmc as smcmc\n",
      "import triangle\n",
      "%matplotlib inline"
     ],
     "language": "python",
     "metadata": {},
     "outputs": [
      {
       "output_type": "stream",
       "stream": "stdout",
       "text": [
        "Warning: cannot find astropy, units support will not be available.\n"
       ]
      }
     ],
     "prompt_number": 1
    },
    {
     "cell_type": "markdown",
     "metadata": {},
     "source": [
      "# Day 2: do a simple noise analysis #\n",
      "\n",
      "We are going to do a simple noise analysis today. For a whole bunch of pulsars, you will find datafiles in the directory 'signals'. We will analyze one pulsar (say, J0030) today for noise. In order to do that, we have provided some auxiliary functions"
     ]
    },
    {
     "cell_type": "markdown",
     "metadata": {},
     "source": [
      "## Some constants ##\n",
      "\n",
      "These constants will come in handy"
     ]
    },
    {
     "cell_type": "code",
     "collapsed": false,
     "input": [
      "day = 86400.0                   # Seconds per day\n",
      "year =  31557600.0              # Seconds per year (yr = 365.25 days, so Julian years)\n",
      "EulerGamma = 0.5772156649015329 # Euler gamma constant\n",
      "mjdT0 = 54000.0                 # MJD to which all toas are referenced (for precision)"
     ],
     "language": "python",
     "metadata": {},
     "outputs": [],
     "prompt_number": 2
    },
    {
     "cell_type": "markdown",
     "metadata": {},
     "source": [
      "## Design matrix ##\n",
      "In case we do not use the tempo2 design matrix, we can generate one ourselves for quadratic spindown"
     ]
    },
    {
     "cell_type": "code",
     "collapsed": false,
     "input": [
      "def designqsd(t, order=2):\n",
      "    \"\"\"\n",
      "    Calculate the design matrix for quadratic spindown\n",
      "\n",
      "    :param t:\n",
      "        array of toas\n",
      "    \"\"\"\n",
      "    M = np.ones([len(t), order+1])\n",
      "    for ii in range(1, order+1):\n",
      "        M[:,ii] = t ** ii\n",
      "    \n",
      "    return M.copy()"
     ],
     "language": "python",
     "metadata": {},
     "outputs": [],
     "prompt_number": 3
    },
    {
     "cell_type": "markdown",
     "metadata": {},
     "source": [
      "## Fourier basis ##\n",
      "Like the design matrix, we need a basis for the Fourier amplitudes as well."
     ]
    },
    {
     "cell_type": "code",
     "collapsed": false,
     "input": [
      "def fourierdesignmatrix(t, nmodes, Ttot=None):\n",
      "    \"\"\"\n",
      "    Calculate the matrix of Fourier modes A, given a set of timestamps\n",
      "\n",
      "    These are sine/cosine basis vectors at evenly separated frequency bins\n",
      "\n",
      "    Mode 0: sin(f_0)\n",
      "    Mode 1: cos(f_0)\n",
      "    Mode 2: sin(f_1)\n",
      "    ... etc\n",
      "\n",
      "    :param nmodes:\n",
      "        The number of modes that will be included (= 2*nfreq)\n",
      "    :param Ttot:\n",
      "        Total duration experiment (in case not given by t)\n",
      "\n",
      "    :return:\n",
      "        (A, freqs), with A the 'fourier design matrix', and f the associa\n",
      "\n",
      "    \"\"\"\n",
      "    N = t.size\n",
      "    A = np.zeros([N, nmodes])\n",
      "    T = t.max() - t.min()\n",
      "\n",
      "    if(nmodes % 2 != 0):\n",
      "      print \"WARNING: Number of modes should be even!\"\n",
      "\n",
      "    if Ttot is None:\n",
      "        deltaf = 1.0 / T\n",
      "    else:\n",
      "        deltaf = 1.0 / Ttot\n",
      "\n",
      "    freqs1 = np.linspace(deltaf, (nmodes/2)*deltaf, nmodes/2)\n",
      "    freqs = np.array([freqs1, freqs1]).T.flatten()\n",
      "\n",
      "    # The cosine modes\n",
      "    for i in range(0, nmodes, 2):\n",
      "        omega = 2.0 * np.pi * freqs[i]\n",
      "        A[:,i] = np.cos(omega * t)\n",
      "\n",
      "    # The sine modes\n",
      "    for i in range(1, nmodes, 2):\n",
      "        omega = 2.0 * np.pi * freqs[i]\n",
      "        A[:,i] = np.sin(omega * t)\n",
      "\n",
      "    return (A, freqs)\n"
     ],
     "language": "python",
     "metadata": {},
     "outputs": [],
     "prompt_number": 4
    },
    {
     "cell_type": "markdown",
     "metadata": {},
     "source": [
      "## Functions for power-law spectral analysis ##\n",
      "In order to do spectral analysis, we need the PSD, the covariance function (PSD cosine transform), and the covariance matrix."
     ]
    },
    {
     "cell_type": "code",
     "collapsed": false,
     "input": [
      "def PL_psd(f, amp, alpha, sig_fL):\n",
      "    \"\"\"\n",
      "    PSD for a power-law signal.\n",
      "\n",
      "    :param f:\n",
      "        Array of frequencies for which to return the PSD (1/sec)\n",
      "\n",
      "    :param amp:\n",
      "        Unitless amplitude of the power-law signal\n",
      "\n",
      "    :param alpha:\n",
      "        Spectral index\n",
      "\n",
      "    :param sig_fL:\n",
      "        Signal low-frequency cut-off. A physical bound\n",
      "    \n",
      "    Note that this function returns the power per\n",
      "    frequency bin of (1/Tmax) size, so the units are in sec^2 / (1/Tmax)\n",
      "    \"\"\"\n",
      "    Si = 3.0 - 2.0*alpha\n",
      "\n",
      "    Tmax = 1.0 / np.min(f)\n",
      "\n",
      "    freqpy = f * year\n",
      "\n",
      "    mask = (freqpy >= sig_fL)\n",
      "\n",
      "    psd = np.zeros(len(freqpy))\n",
      "    psd[mask] = (amp**2 * year**3 / (12*np.pi*np.pi * Tmax)) * freqpy[mask] ** (-Si)\n",
      "    \n",
      "    return psd\n",
      "\n",
      "\n",
      "# Calculate the covariance matrix for a red signal\n",
      "# (for a GWB with unitless amplitude h_c(1yr^{-1}) = 1)\n",
      "def PL_covfunc(tau, amp, alpha=-2.0/3.0, fL=1.0/(year*20)):\n",
      "    \"\"\"\n",
      "    Compute the covariance function for a powerlaw\n",
      "    Result is in units of (sec)^2.\n",
      "\n",
      "    :param tau:\n",
      "        the time lag\n",
      "\n",
      "    :param amp:\n",
      "        amplitude\n",
      "\n",
      "    :param alpha:\n",
      "        the GWB spectral index\n",
      "\n",
      "    :param fL:\n",
      "        the low-frequency cut-off\n",
      "    \"\"\"\n",
      "    fL = fL * year\n",
      "    x = 2 * np.pi * fL * np.abs(tau) / year\n",
      "    cf = ss.gamma(-2+2*alpha) * np.cos(np.pi*alpha)\n",
      "    power = cf * x**(2-2*alpha)\n",
      "    ksum = ss.hyp1f2(alpha-1,0.5,alpha,-0.25*x**2)[0]/(2*alpha-2)\n",
      "    corr = -(year**2 * fL**(-2+2*alpha)) / (12 * np.pi**2) * (power + ksum)\n",
      "    \n",
      "    return amp**2*corr\n",
      "\n",
      "\n",
      "def PL_covmat(toas, amp, alpha=-2.0/3.0, fL=1.0/(year*20)):\n",
      "    \"\"\"\n",
      "    Use the covariance function PL_covfunc to create the covariance matrix for\n",
      "    'toas'. Result is in units of (sec)^2\n",
      "\n",
      "    :param tau:\n",
      "        the time lag\n",
      "\n",
      "    :param amp:\n",
      "        amplitude\n",
      "\n",
      "    :param alpha:\n",
      "        the GWB spectral index\n",
      "\n",
      "    :param fL:\n",
      "        the low-frequency cut-off\n",
      "    \"\"\"\n",
      "    t1, t2 = np.meshgrid(toas, toas)\n",
      "    tau = np.abs(t1-t2)\n",
      "\n",
      "    return PL_covfunc(tau, amp, alpha, fL)"
     ],
     "language": "python",
     "metadata": {},
     "outputs": [],
     "prompt_number": 5
    },
    {
     "cell_type": "markdown",
     "metadata": {},
     "source": [
      "## A simple pulsar class ##\n",
      "\n",
      "This class does not do much. It neatly stores data for you, and conveniently creates the Fourier basis for spectral analysis"
     ]
    },
    {
     "cell_type": "code",
     "collapsed": false,
     "input": [
      "class Pulsar(object):\n",
      "    def __init__(self, toas, residuals, toaerrs, desmat=None, nfreqs=20,\n",
      "            qsdorder=2, Tlow=None):\n",
      "        \"\"\"\n",
      "        Initialise the pulsar from data\n",
      "\n",
      "        :param toas:\n",
      "            The barycentric times of arrival [MJD]\n",
      "\n",
      "        :param residuals:\n",
      "            The timing residuals [sec]\n",
      "\n",
      "        :param toaerrs:\n",
      "            The TOA uncertainties [sec]\n",
      "\n",
      "        :param desmat:\n",
      "            The design matrix (default None)\n",
      "\n",
      "        :param nfreqs:\n",
      "            The number of frequencies we'll use in the Fourier expansion\n",
      "\n",
      "        :param qsdorder:\n",
      "            If desmat=None, make a design matrix from scratch, with this order\n",
      "\n",
      "        :param Tlow:\n",
      "            1/lowest frequency used in expansion (default length of dataset)(\n",
      "        \"\"\"\n",
      "        self.toas = (toas - mjdT0) * day       # MJD to seconds\n",
      "        self.residuals = residuals\n",
      "        self.toaerrs = toaerrs\n",
      "        self.Mmat = desmat\n",
      "        self.nobs = len(toas)\n",
      "        self.nfreqs = nfreqs\n",
      "\n",
      "        self.T = (np.max(self.toas) - np.min(self.toas))\n",
      "\n",
      "        if self.Mmat is None:\n",
      "            self.Mmat = designqsd(self.toas, order=qsdorder)\n",
      "\n",
      "        # Create the basis of Fourier components\n",
      "        if Tlow is None:\n",
      "            Tlow = (np.max(self.toas) - np.min(self.toas))\n",
      "        (self.Fmat, self.freqs) = fourierdesignmatrix(self.toas, 2*nfreqs, Ttot=Tlow)"
     ],
     "language": "python",
     "metadata": {},
     "outputs": [],
     "prompt_number": 6
    },
    {
     "cell_type": "markdown",
     "metadata": {},
     "source": [
      "# Exercise 1 #\n",
      "In this exercise, we test the provided functions above. We'll read in data, and construct the PSD-derived functions.\n",
      "\n",
      "_Hint: Use the numpy function np.loadtxt(filename)_"
     ]
    },
    {
     "cell_type": "markdown",
     "metadata": {},
     "source": [
      "# Exercise 1a #\n",
      "Read in a pulsar of your choice, and initialize the pulsar class"
     ]
    },
    {
     "cell_type": "code",
     "collapsed": false,
     "input": [
      "psrnum = 0 # J0030\n",
      "psrlist = glob.glob('signals/J?????????.txt')\n",
      "psrname = os.path.splitext(psrlist[psrnum])[0]"
     ],
     "language": "python",
     "metadata": {},
     "outputs": [],
     "prompt_number": 7
    },
    {
     "cell_type": "code",
     "collapsed": false,
     "input": [],
     "language": "python",
     "metadata": {},
     "outputs": [],
     "prompt_number": 67
    },
    {
     "cell_type": "markdown",
     "metadata": {},
     "source": [
      "# Exercise 1b #\n",
      "Plot the timing residuals, including the measurement uncertainties"
     ]
    },
    {
     "cell_type": "code",
     "collapsed": false,
     "input": [],
     "language": "python",
     "metadata": {},
     "outputs": [],
     "prompt_number": 7
    },
    {
     "cell_type": "markdown",
     "metadata": {},
     "source": [
      "# Exercise 1c #\n",
      "For a red noise signal with $\\alpha=-\\frac{2}{3}$, and $A=10^{-14}$, plot the power spectral density and the covariance function.\n",
      "\n",
      "What is the effect of the low-frequency cut-off on either of these?"
     ]
    },
    {
     "cell_type": "code",
     "collapsed": false,
     "input": [],
     "language": "python",
     "metadata": {},
     "outputs": [],
     "prompt_number": 7
    },
    {
     "cell_type": "markdown",
     "metadata": {},
     "source": [
      "## Exercise 1d ##\n",
      "How could you use the psd of the previous exercise to generate mock timing residuals?"
     ]
    },
    {
     "cell_type": "code",
     "collapsed": false,
     "input": [],
     "language": "python",
     "metadata": {},
     "outputs": [],
     "prompt_number": 7
    },
    {
     "cell_type": "markdown",
     "metadata": {},
     "source": [
      "## Exercise 1e ##\n",
      "Show that such mock timing residuals have the correct covariance function/matrix"
     ]
    },
    {
     "cell_type": "code",
     "collapsed": false,
     "input": [],
     "language": "python",
     "metadata": {},
     "outputs": [],
     "prompt_number": 7
    },
    {
     "cell_type": "markdown",
     "metadata": {},
     "source": [
      "# Exercise 2 #\n",
      "We will be writing log-likelihood functions here. First we will give two log-likelihood functions that can be used for _simple_ analyses, but they are not fast. You will be challenged to write a faster version. If you don't manage, use one of these slower versions for the MCMC exercise in the MCMC exercise."
     ]
    },
    {
     "cell_type": "code",
     "collapsed": false,
     "input": [
      "def mark1loglikelihood(psr, Aw, Ar, Si):\n",
      "    \"\"\"\n",
      "    Log-likelihood for our pulsar. This one does not marginalize\n",
      "    over the timing model, so it cannot be used if the data has been\n",
      "    'fit'. Use when creating data with 'dofit=False':\n",
      "    psr = Pulsar(dofit=False)\n",
      "    \n",
      "    Calculate covariance matrix in the time-domain with:\n",
      "    \n",
      "    ll = -0.5 * res^{T} C^{-1} res - 0.5 * log(det(C))\n",
      "    \n",
      "    :param psr:\n",
      "        pulsar object, containing the data and stuff\n",
      "\n",
      "    :param Aw:\n",
      "        White noise amplitude, model parameter [sec]\n",
      "\n",
      "    :param Ar:\n",
      "        Red noise amplitude, model parameter []\n",
      "\n",
      "    :param Si:\n",
      "        Spectral index of red noise, model parameter []\n",
      "    \"\"\"\n",
      "    n = len(psr.toas)\n",
      "    \n",
      "    # The function that builds the non-diagonal time-domain covariance matrix is PL_covmat\n",
      "    Cov = Aw**2 * np.eye(len(psr.toas)) + \\\n",
      "        PL_covmat(psr.toas, Ar, alpha=0.5*(3-Si), fL=1.0/(year*20))\n",
      "    \n",
      "    # Invert the covariance matrix usign the Cholesky decomposition\n",
      "    cfC = sl.cho_factor(Cov)\n",
      "    ldetC = 2 * np.sum(np.log(np.diag(cfC[0])))\n",
      "    rCr = np.dot(psr.residuals, sl.cho_solve(cfC, psr.residuals))\n",
      "    \n",
      "    return -0.5 * rCr - 0.5 * ldetC - 0.5*n*np.log(2*np.pi)\n",
      "\n",
      "def mark2loglikelihood(psr, Aw, Ar, Si):\n",
      "    \"\"\"\n",
      "    Log-likelihood for our pulsar\n",
      "    \n",
      "    This likelihood does marginalize over the timing model. Calculate\n",
      "    covariance matrix in the time-domain with:\n",
      "    \n",
      "    ll = 0.5 * res^{t} (C^{-1} - C^{-1} M (M^{T} C^{-1} M)^{-1} M^{T} C^{-1} ) res - \\\n",
      "         0.5 * log(det(C)) - 0.5 * log(det(M^{T} C^{-1} M))\n",
      "         \n",
      "    In relation to 'mark1loglikelihood', this likelihood has but a simple addition:\n",
      "    res' = res - M xi\n",
      "    where M is a (n x m) matrix, with m < n, and xi is a vector of length m. The xi\n",
      "    are analytically marginalised over, yielding the above equation (up to constants)\n",
      "    \n",
      "    :param psr:\n",
      "        pulsar object, containing the data and stuff\n",
      "\n",
      "    :param Aw:\n",
      "        White noise amplitude, model parameter []\n",
      "\n",
      "    :param Ar:\n",
      "        Red noise amplitude, model parameter []\n",
      "\n",
      "    :param Si:\n",
      "        Spectral index of red noise, model parameter []\n",
      "    \"\"\"\n",
      "    n = len(psr.toas)\n",
      "    Mmat = psr.Mmat\n",
      "    \n",
      "    # Create the full covariance matrix (time-domain)\n",
      "    Cov = Aw**2 * np.eye(len(psr.toas)) + \\\n",
      "        PL_covmat(psr.toas, Ar, alpha=0.5*(3-Si), fL=1.0/(year*20))\n",
      "    \n",
      "    # Obtain the Cholesky factor, and thus also the determinant\n",
      "    cfC = sl.cho_factor(Cov)\n",
      "    Cinv = sl.cho_solve(cfC, np.eye(len(psr.toas)))\n",
      "    ldetC = 2 * np.sum(np.log(np.diag(cfC[0])))\n",
      "\n",
      "    # Calculate M.T C^{-1} M, and get it's Cholesky factor\n",
      "    MCM = np.dot(Mmat.T, np.dot(Cinv, Mmat))\n",
      "    cfM = sl.cho_factor(MCM)\n",
      "    ldetM = 2 * np.sum(np.log(np.diag(cfM[0])))\n",
      "    \n",
      "    # Collapse the matrices to vectors for speedy evaluation\n",
      "    wr = np.dot(Cinv, psr.residuals)\n",
      "    rCr = np.dot(psr.residuals, wr)\n",
      "    MCr = np.dot(Mmat.T, wr)\n",
      "    \n",
      "    return -0.5 * rCr + 0.5 * np.dot(MCr, sl.cho_solve(cfM, MCr)) - \\\n",
      "            0.5 * ldetC - 0.5 * ldetM -0.5*n*np.log(2*np.pi)"
     ],
     "language": "python",
     "metadata": {},
     "outputs": [],
     "prompt_number": 8
    },
    {
     "cell_type": "markdown",
     "metadata": {},
     "source": [
      "## Exercise 2a ##\n",
      "Typical noise values are 1e-7 for the white noise, and (1e-14, 4.33) for the red noise, in these datasets. Try some values in these two likelihood functions. Are they the same, and if not, why?"
     ]
    },
    {
     "cell_type": "code",
     "collapsed": false,
     "input": [],
     "language": "python",
     "metadata": {},
     "outputs": [],
     "prompt_number": 8
    },
    {
     "cell_type": "markdown",
     "metadata": {},
     "source": [
      "## Exercise 2b ##\n",
      "Finish the log-likelihood function below that uses the hierachical model (with the Woodbury matrix identity), as shown in the presentation. How much faster is it? Does it give the same value as the previous likelihood functions?"
     ]
    },
    {
     "cell_type": "code",
     "collapsed": false,
     "input": [
      "def mark3loglikelihood(psr, Nvec, psd):\n",
      "    \"\"\"\n",
      "    Log-likelihood for our pulsar (hierarchical/Woodbury)\n",
      "\n",
      "    :param psr:\n",
      "        pulsar object, containing the data and stuff\n",
      "\n",
      "    :param Nvec:\n",
      "        Vector of squared white noise amplitude (diagonal of covariance matrix)\n",
      "\n",
      "    :param psd:\n",
      "        Power-spectral density per frequency bin (of size 1/T)\n",
      "    \"\"\"\n",
      "    Mmat, Fmat = psr.Mmat, psr.Fmat\n",
      "    Tmat = np.append(Mmat, Fmat, axis=1)\n",
      "    n, m, l = len(psr.toas), Mmat.shape[1], Fmat.shape[1]\n",
      "\n",
      "    # Create the Phi and Sigma_inv matrices here\n",
      "\n",
      "    # Invert Sigma_inv for use in the Woodbury identity\n",
      "\n",
      "    # Calculate the log-determinants of Sigma, Phi, and N\n",
      "    # for the Sylvester Matrix identity\n",
      "\n",
      "    # Return the log-likelihood\n",
      "    return 0.0\n",
      "\n",
      "def pl_loglikelihood(psr, Aw, Ar, Si):\n",
      "    \"\"\"\n",
      "    Log-likelihood for our pulsar (hierarchical/Woodbury)\n",
      "\n",
      "    :param psr:\n",
      "        pulsar object, containing the data and stuff\n",
      "\n",
      "    :param Aw:\n",
      "        White noise amplitude [sec]\n",
      "        \n",
      "    :param Ar:\n",
      "        Power-law red noise amplitude []\n",
      "\n",
      "    :param Si:\n",
      "        Power-law red noise spectral index []\n",
      "    \"\"\"\n",
      "    Nvec = np.ones(len(psr.toas)) * Aw**2\n",
      "    psd = PL_psd(psr.freqs, Ar, 0.5*(3-Si), sig_fL=1.0/(20.0*year))\n",
      "    return mark3loglikelihood(psr, Nvec, psd)\n",
      "\n",
      "def sp_loglikelihood(psr, Aw, psd):\n",
      "    \"\"\"\n",
      "    Log-likelihood for our pulsar (hierarchical/Woodbury)\n",
      "\n",
      "    :param psr:\n",
      "        pulsar object, containing the data and stuff\n",
      "\n",
      "    :param Aw:\n",
      "        White noise amplitude [sec]\n",
      "        \n",
      "    :param psd:\n",
      "        Vector PSD amplitudes [sec]\n",
      "    \"\"\"    \n",
      "    if len(psd)*2 != psr.Fmat.shape[1]:\n",
      "        raise ValueError(\"PSD vector not of appropriate length!\")\n",
      "\n",
      "    Nvec = np.ones(len(psr.toas)) * Aw**2\n",
      "    return mark3loglikelihood(psr, Nvec, psd.repeat(2))"
     ],
     "language": "python",
     "metadata": {},
     "outputs": [],
     "prompt_number": 74
    },
    {
     "cell_type": "code",
     "collapsed": false,
     "input": [],
     "language": "python",
     "metadata": {},
     "outputs": [],
     "prompt_number": 14
    },
    {
     "cell_type": "markdown",
     "metadata": {},
     "source": [
      "# Exercise 2c #\n",
      "Plot the log-likelihood as a function of power-law amplitude for the range 10**(-16, -13), with $\\gamma=13/3$.\n",
      "\n",
      "Use 100ns as white noise level. Can you guess the injection value for the power-law amplitude?"
     ]
    },
    {
     "cell_type": "code",
     "collapsed": false,
     "input": [],
     "language": "python",
     "metadata": {},
     "outputs": [],
     "prompt_number": 14
    },
    {
     "cell_type": "code",
     "collapsed": false,
     "input": [],
     "language": "python",
     "metadata": {},
     "outputs": [],
     "prompt_number": 14
    },
    {
     "cell_type": "markdown",
     "metadata": {},
     "source": [
      "## Exercise 2d ##\n",
      "Run a simple MCMC, using the sampler you wrote yesterday, to discover the injected value of:\n",
      " * white noise\n",
      " * power-law red noise amplitude\n",
      " * power-law red noise spectral index\n",
      " \n",
      "Make sure to properly inspect the chain, and try to tune the stepsize. So inspect the autocorrelation and the burn-in time"
     ]
    },
    {
     "cell_type": "code",
     "collapsed": false,
     "input": [
      "# Run a simple MCMC on the power-law\n",
      "\n",
      "# Define a prior\n"
     ],
     "language": "python",
     "metadata": {},
     "outputs": [],
     "prompt_number": 13
    },
    {
     "cell_type": "code",
     "collapsed": false,
     "input": [
      "# Run the sampler"
     ],
     "language": "python",
     "metadata": {},
     "outputs": [],
     "prompt_number": 14
    },
    {
     "cell_type": "markdown",
     "metadata": {},
     "source": [
      "## Exercise 2e ##\n",
      "We can also use an MCMC to discover the power spectral density (PSD), instead of doing a power-law search. Run a simple MCMC, using the sampler you wrote yesterday, to discover the injected value of:\n",
      "\n",
      " * white noise\n",
      " * PSD amplitudes\n",
      "\n",
      "Make a plot of the power spectrum (use np.percentile). Do all pulsars have the same PSD?"
     ]
    },
    {
     "cell_type": "code",
     "collapsed": false,
     "input": [],
     "language": "python",
     "metadata": {},
     "outputs": [],
     "prompt_number": 25
    },
    {
     "cell_type": "code",
     "collapsed": false,
     "input": [],
     "language": "python",
     "metadata": {},
     "outputs": [],
     "prompt_number": 25
    },
    {
     "cell_type": "code",
     "collapsed": false,
     "input": [],
     "language": "python",
     "metadata": {},
     "outputs": [],
     "prompt_number": 25
    },
    {
     "cell_type": "code",
     "collapsed": false,
     "input": [],
     "language": "python",
     "metadata": {},
     "outputs": []
    }
   ],
   "metadata": {}
  }
 ]
}