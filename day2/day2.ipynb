{
 "metadata": {
  "name": "",
  "signature": "sha256:2b967025907862408b6d4533232a5299a65cb9582ac7ae2739bf0f74e31b4fe9"
 },
 "nbformat": 3,
 "nbformat_minor": 0,
 "worksheets": [
  {
   "cells": [
    {
     "cell_type": "code",
     "collapsed": false,
     "input": [
      "import numpy as np\n",
      "import scipy.linalg as sl\n",
      "import scipy.special as ss\n",
      "import libstempo as lt, libstempo.plot as ltp, libstempo.toasim as ltt\n",
      "import matplotlib.pyplot as plt\n",
      "import os, sys, glob\n",
      "%matplotlib inline"
     ],
     "language": "python",
     "metadata": {},
     "outputs": [],
     "prompt_number": 58
    },
    {
     "cell_type": "markdown",
     "metadata": {},
     "source": [
      "# Day 2: do a simple noise analysis #\n",
      "\n",
      "We are going to do a simple noise analysis today. For a whole bunch of pulsars, you will find datafiles in the directory 'signals'. We will analyze one pulsar (say, J0030) today for noise. In order to do that, we have provided some auxiliary functions"
     ]
    },
    {
     "cell_type": "markdown",
     "metadata": {},
     "source": [
      "## Some constants ##\n",
      "\n",
      "These constants will come in handy"
     ]
    },
    {
     "cell_type": "code",
     "collapsed": false,
     "input": [
      "day = 86400.0                   # Seconds per day\n",
      "year =  31557600.0              # Seconds per year (yr = 365.25 days, so Julian years)\n",
      "EulerGamma = 0.5772156649015329 # Euler gamma constant\n",
      "mjdT0 = 54000.0                 # MJD to which all toas are referenced (for precision)"
     ],
     "language": "python",
     "metadata": {},
     "outputs": [],
     "prompt_number": 37
    },
    {
     "cell_type": "markdown",
     "metadata": {},
     "source": [
      "## Design matrix ##\n",
      "In case we do not use the tempo2 design matrix, we can generate one ourselves for quadratic spindown"
     ]
    },
    {
     "cell_type": "code",
     "collapsed": false,
     "input": [
      "def designqsd(t, order=2):\n",
      "    \"\"\"\n",
      "    Calculate the design matrix for quadratic spindown\n",
      "\n",
      "    :param t:\n",
      "        array of toas\n",
      "    \"\"\"\n",
      "    M = np.ones([len(t), order+1])\n",
      "    for ii in range(1, order+1):\n",
      "        M[:,ii] = t ** ii\n",
      "    \n",
      "    return M.copy()"
     ],
     "language": "python",
     "metadata": {},
     "outputs": [],
     "prompt_number": 38
    },
    {
     "cell_type": "markdown",
     "metadata": {},
     "source": [
      "## Fourier basis ##\n",
      "Like the design matrix, we need a basis for the Fourier amplitudes as well."
     ]
    },
    {
     "cell_type": "code",
     "collapsed": false,
     "input": [
      "def fourierdesignmatrix(t, nmodes, Ttot=None):\n",
      "    \"\"\"\n",
      "    Calculate the matrix of Fourier modes A, given a set of timestamps\n",
      "\n",
      "    These are sine/cosine basis vectors at evenly separated frequency bins\n",
      "\n",
      "    Mode 0: sin(f_0)\n",
      "    Mode 1: cos(f_0)\n",
      "    Mode 2: sin(f_1)\n",
      "    ... etc\n",
      "\n",
      "    :param nmodes:\n",
      "        The number of modes that will be included (= 2*nfreq)\n",
      "    :param Ttot:\n",
      "        Total duration experiment (in case not given by t)\n",
      "\n",
      "    :return:\n",
      "        (A, freqs), with A the 'fourier design matrix', and f the associa\n",
      "\n",
      "    \"\"\"\n",
      "    N = t.size\n",
      "    A = np.zeros([N, nmodes])\n",
      "    T = t.max() - t.min()\n",
      "\n",
      "    if(nmodes % 2 != 0):\n",
      "      print \"WARNING: Number of modes should be even!\"\n",
      "\n",
      "    if Ttot is None:\n",
      "        deltaf = 1.0 / T\n",
      "    else:\n",
      "        deltaf = 1.0 / Ttot\n",
      "\n",
      "    freqs1 = np.linspace(deltaf, (nmodes/2)*deltaf, nmodes/2)\n",
      "    freqs = np.array([freqs1, freqs1]).T.flatten()\n",
      "\n",
      "    # The cosine modes\n",
      "    for i in range(0, nmodes, 2):\n",
      "        omega = 2.0 * np.pi * freqs[i]\n",
      "        A[:,i] = np.cos(omega * t)\n",
      "\n",
      "    # The sine modes\n",
      "    for i in range(1, nmodes, 2):\n",
      "        omega = 2.0 * np.pi * freqs[i]\n",
      "        A[:,i] = np.sin(omega * t)\n",
      "\n",
      "    return (A, freqs)\n"
     ],
     "language": "python",
     "metadata": {},
     "outputs": [],
     "prompt_number": 39
    },
    {
     "cell_type": "markdown",
     "metadata": {},
     "source": [
      "## Functions for power-law spectral analysis ##\n",
      "In order to do spectral analysis, we need the PSD, the covariance function (PSD cosine transform), and the covariance matrix."
     ]
    },
    {
     "cell_type": "code",
     "collapsed": false,
     "input": [
      "def PL_psd(f, amp, alpha, sig_fL, bin_fL=1.0/20, binned=True):\n",
      "    \"\"\"\n",
      "    PSD for a power-law signal.\n",
      "\n",
      "    :param f:\n",
      "        Array of frequencies for which to return the PSD (1/sec)\n",
      "\n",
      "    :param amp:\n",
      "        Unitless amplitude of the power-law signal\n",
      "\n",
      "    :param alpha:\n",
      "        Spectral index\n",
      "\n",
      "    :param sig_fL:\n",
      "        Signal low-frequency cut-off. A physical bound\n",
      "\n",
      "    :param bin_fL:\n",
      "        The binning spacing (in 1/year)\n",
      "\n",
      "    :param binned:\n",
      "        Whether to include the binning factor\n",
      "    \n",
      "    Note that this function returns the power per\n",
      "    frequency bin of (1/Tmax) size, so the units are in sec^2 / (1/Tmax)\n",
      "    \"\"\"\n",
      "    Si = 3.0 - 2.0*alpha\n",
      "\n",
      "    if bin_fL is not None and binned == True:\n",
      "        Tmax = year / bin_fL\n",
      "    else:\n",
      "        Tmax = 1.0\n",
      "\n",
      "    freqpy = f * year\n",
      "\n",
      "    mask = (freqpy >= sig_fL)\n",
      "\n",
      "    psd = np.zeros(len(freqpy))\n",
      "    psd[mask] = (amp**2 * year**3 / (12*np.pi*np.pi * Tmax)) * freqpy[mask] ** (-Si)\n",
      "    \n",
      "    return psd\n",
      "\n",
      "\n",
      "# Calculate the covariance matrix for a red signal\n",
      "# (for a GWB with unitless amplitude h_c(1yr^{-1}) = 1)\n",
      "def PL_covfunc(tau, amp, alpha=-2.0/3.0, fL=1.0/(year*20)):\n",
      "    \"\"\"\n",
      "    Compute the covariance function for a powerlaw\n",
      "    Result is in units of (sec)^2.\n",
      "\n",
      "    :param tau:\n",
      "        the time lag\n",
      "\n",
      "    :param amp:\n",
      "        amplitude\n",
      "\n",
      "    :param alpha:\n",
      "        the GWB spectral index\n",
      "\n",
      "    :param fL:\n",
      "        the low-frequency cut-off\n",
      "    \"\"\"\n",
      "\n",
      "    x = 2 * np.pi * fL * np.abs(tau)\n",
      "    cf = ss.gamma(-2+2*alpha) * np.cos(np.pi*alpha)\n",
      "    power = cf * x**(2-2*alpha)\n",
      "    ksum = ss.hyp1f2(alpha-1,0.5,alpha,-0.25*x**2)[0]/(2*alpha-2)\n",
      "    corr = -(year**2 * fL**(-2+2*alpha)) / (12 * np.pi**2) * (power + ksum)\n",
      "    \n",
      "    return amp**2*corr\n",
      "\n",
      "\n",
      "def PL_covmat(toas, amp, alpha=-2.0/3.0, fL=1.0/(year*20)):\n",
      "    \"\"\"\n",
      "    Use the covariance function PL_covfunc to create the covariance matrix for\n",
      "    'toas'. Result is in units of (sec)^2\n",
      "\n",
      "    :param tau:\n",
      "        the time lag\n",
      "\n",
      "    :param amp:\n",
      "        amplitude\n",
      "\n",
      "    :param alpha:\n",
      "        the GWB spectral index\n",
      "\n",
      "    :param fL:\n",
      "        the low-frequency cut-off\n",
      "    \"\"\"\n",
      "    t1, t2 = np.meshgrid(toas, toas)\n",
      "    tau = np.abs(t1-t2)\n",
      "\n",
      "    return PL_covfunc(tau, amp, alpha, fL)"
     ],
     "language": "python",
     "metadata": {},
     "outputs": [],
     "prompt_number": 84
    },
    {
     "cell_type": "markdown",
     "metadata": {},
     "source": [
      "## A simple pulsar class ##\n",
      "\n",
      "This class does not do much. It neatly stores data for you, and conveniently creates the Fourier basis for spectral analysis"
     ]
    },
    {
     "cell_type": "code",
     "collapsed": false,
     "input": [
      "class Pulsar(object):\n",
      "    def __init__(self, toas, residuals, toaerrs, desmat=None, nfreqs=20,\n",
      "            qsdorder=2, Tlow=None):\n",
      "        \"\"\"\n",
      "        Initialise the pulsar from data\n",
      "\n",
      "        :param toas:\n",
      "            The barycentric times of arrival [MJD]\n",
      "\n",
      "        :param residuals:\n",
      "            The timing residuals [sec]\n",
      "\n",
      "        :param toaerrs:\n",
      "            The TOA uncertainties [sec]\n",
      "\n",
      "        :param desmat:\n",
      "            The design matrix (default None)\n",
      "\n",
      "        :param nfreqs:\n",
      "            The number of frequencies we'll use in the Fourier expansion\n",
      "\n",
      "        :param qsdorder:\n",
      "            If desmat=None, make a design matrix from scratch, with this order\n",
      "\n",
      "        :param Tlow:\n",
      "            1/lowest frequency used in expansion (default length of dataset)(\n",
      "        \"\"\"\n",
      "        self.toas = (toas - mjdT0) * day       # MJD to seconds\n",
      "        self.residuals = residuals\n",
      "        self.toaerrs = toaerrs\n",
      "        self.Mmat = desmat\n",
      "        self.nobs = len(toas)\n",
      "        self.nfreqs = nfreqs\n",
      "\n",
      "        self.T = (np.max(self.toas) - np.min(self.toas))\n",
      "\n",
      "        if self.Mmat is None:\n",
      "            self.Mmat = designqsd(self.toas, order=qsdorder)\n",
      "\n",
      "        # Create the basis of Fourier components\n",
      "        if Tlow is None:\n",
      "            Tlow = (np.max(self.toas) - np.min(self.toas))\n",
      "        (self.Fmat, self.freqs) = fourierdesignmatrix(self.toas, 2*nfreqs, Ttot=Tlow)"
     ],
     "language": "python",
     "metadata": {},
     "outputs": [],
     "prompt_number": 85
    },
    {
     "cell_type": "markdown",
     "metadata": {},
     "source": [
      "# Exercise 1 #\n",
      "In this exercise, we test the provided functions above. We'll read in data, and construct the PSD-derived functions"
     ]
    },
    {
     "cell_type": "markdown",
     "metadata": {},
     "source": [
      "# Exercise 1a #\n",
      "Read in a pulsar of your choice, and initialize the pulsar class"
     ]
    },
    {
     "cell_type": "code",
     "collapsed": false,
     "input": [
      "psrnum = 0 # J0030\n",
      "psrlist = glob.glob('signals/J?????????.txt')\n",
      "psrname = os.path.splitext(psrlist[psrnum])[0]\n",
      "sigfile = psrname + '.txt'\n",
      "desfile = psrname + '-des.txt'"
     ],
     "language": "python",
     "metadata": {},
     "outputs": [],
     "prompt_number": 86
    },
    {
     "cell_type": "code",
     "collapsed": false,
     "input": [
      "dat = np.loadtxt(sigfile)\n",
      "toas = dat[:,0]\n",
      "residuals = dat[:,1]\n",
      "toaerrs = dat[:,2]\n",
      "desmat = np.loadtxt(desfile)\n",
      "psr = Pulsar(toas, residuals, toaerrs, desmat=desmat)"
     ],
     "language": "python",
     "metadata": {},
     "outputs": [],
     "prompt_number": 87
    },
    {
     "cell_type": "markdown",
     "metadata": {},
     "source": [
      "# Exercise 1b #\n",
      "Plot the timing residuals, including the measurement uncertainties"
     ]
    },
    {
     "cell_type": "code",
     "collapsed": false,
     "input": [
      "plt.errorbar(toas, residuals, yerr=toaerrs, fmt='x', c='blue')"
     ],
     "language": "python",
     "metadata": {},
     "outputs": [
      {
       "metadata": {},
       "output_type": "pyout",
       "prompt_number": 88,
       "text": [
        "<Container object of 3 artists>"
       ]
      },
      {
       "metadata": {},
       "output_type": "display_data",
       "png": "[encoded data removed]",
       "text": [
        "<matplotlib.figure.Figure at 0x10d402b10>"
       ]
      }
     ],
     "prompt_number": 88
    },
    {
     "cell_type": "markdown",
     "metadata": {},
     "source": [
      "# Exercise 1c #\n",
      "For a red noise signal with $\\alpha=-\\frac{2}{3}$, and $A=10^{-14}$, plot the power spectral density and the covariance function."
     ]
    },
    {
     "cell_type": "code",
     "collapsed": false,
     "input": [
      "fig, ax = plt.subplots(nrows=1, ncols=2)\n",
      "\n",
      "# Power-law parameters\n",
      "amp = 1.0e-14\n",
      "alpha = -2.0/3.0\n",
      "fL = 1.0 / (np.max(psr.toas) - np.min(psr.toas))\n",
      "\n",
      "# Create the PSD\n",
      "psd = PL_psd(psr.freqs, amp=1.0e-14, alpha=-2.0/3.0, sig_fL=fL)\n",
      "ax[0].loglog(psr.freqs, psd)\n",
      "\n",
      "# Create the covariance function\n",
      "tau = psr.toas-np.min(psr.toas)\n",
      "covf = PL_covfunc(tau, amp, alpha)\n",
      "ax[1].plot(tau, covf)"
     ],
     "language": "python",
     "metadata": {},
     "outputs": [
      {
       "metadata": {},
       "output_type": "pyout",
       "prompt_number": 89,
       "text": [
        "[<matplotlib.lines.Line2D at 0x10d261a90>]"
       ]
      },
      {
       "metadata": {},
       "output_type": "display_data",
       "png": "[encoded data removed]",
       "text": [
        "<matplotlib.figure.Figure at 0x10d10ad50>"
       ]
      }
     ],
     "prompt_number": 89
    },
    {
     "cell_type": "code",
     "collapsed": false,
     "input": [
      "fncs.mark2loglikelihood(psr, 1.0e-7, 1.0e-15, 4.33)"
     ],
     "language": "python",
     "metadata": {},
     "outputs": [
      {
       "metadata": {},
       "output_type": "pyout",
       "prompt_number": 90,
       "text": [
        "2942.7264382905983"
       ]
      }
     ],
     "prompt_number": 90
    },
    {
     "cell_type": "code",
     "collapsed": false,
     "input": [
      "fncs.mark2loglikelihood(psr, 1.0e-7, 1.0e-14, 4.33)"
     ],
     "language": "python",
     "metadata": {},
     "outputs": [
      {
       "metadata": {},
       "output_type": "pyout",
       "prompt_number": 91,
       "text": [
        "2952.7338650865677"
       ]
      }
     ],
     "prompt_number": 91
    },
    {
     "cell_type": "code",
     "collapsed": false,
     "input": [
      "Ar = np.linspace(-16.0, -13.0, 100)\n",
      "ll = np.zeros_like(Ar)\n",
      "\n",
      "for ii, A in enumerate(Ar):\n",
      "    amp = 10**A\n",
      "    ll[ii] = fncs.mark3loglikelihood(psr, 1.0e-7, amp, 4.33)"
     ],
     "language": "python",
     "metadata": {},
     "outputs": [],
     "prompt_number": 33
    },
    {
     "cell_type": "code",
     "collapsed": false,
     "input": [
      "plt.plot(Ar, np.exp(ll-np.max(ll)))"
     ],
     "language": "python",
     "metadata": {},
     "outputs": [
      {
       "metadata": {},
       "output_type": "pyout",
       "prompt_number": 34,
       "text": [
        "[<matplotlib.lines.Line2D at 0x10c1c8e90>]"
       ]
      },
      {
       "metadata": {},
       "output_type": "display_data",
       "png": "[encoded data removed]",
       "text": [
        "<matplotlib.figure.Figure at 0x10c00e990>"
       ]
      }
     ],
     "prompt_number": 34
    },
    {
     "cell_type": "code",
     "collapsed": false,
     "input": [],
     "language": "python",
     "metadata": {},
     "outputs": []
    }
   ],
   "metadata": {}
  }
 ]
}