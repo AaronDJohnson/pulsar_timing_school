{
 "cells": [
  {
   "cell_type": "code",
   "execution_count": null,
   "metadata": {
    "collapsed": false
   },
   "outputs": [],
   "source": [
    "from __future__ import division\n",
    "\n",
    "from likelihood import Pulsar, Model\n",
    "import glob\n",
    "import numpy as np\n",
    "import cPickle as pickle\n",
    "\n",
    "#%load_ext line_profiler"
   ]
  },
  {
   "cell_type": "code",
   "execution_count": null,
   "metadata": {
    "collapsed": true
   },
   "outputs": [],
   "source": [
    "# get 11 year par and tim files\n",
    "parfiles = glob.glob('partim/*.par')\n",
    "timfiles = glob.glob('partim/*.tim')"
   ]
  },
  {
   "cell_type": "code",
   "execution_count": null,
   "metadata": {
    "collapsed": false
   },
   "outputs": [],
   "source": [
    "# initialize pulsar class\n",
    "psr = []\n",
    "for par, tim in zip(parfiles, timfiles):\n",
    "    psr.append(Pulsar(par, tim))"
   ]
  },
  {
   "cell_type": "code",
   "execution_count": null,
   "metadata": {
    "collapsed": false
   },
   "outputs": [],
   "source": [
    "# initialize model\n",
    "model = Model(psr)\n",
    "model.setup()"
   ]
  },
  {
   "cell_type": "code",
   "execution_count": null,
   "metadata": {
    "collapsed": false
   },
   "outputs": [],
   "source": [
    "# set parameters\n",
    "npsr = len(model.psr)\n",
    "x = np.zeros(npsr*5+2)\n",
    "x[::5] = 1\n",
    "x[1::5] = -7.5\n",
    "x[2::5] = -7.5\n",
    "x[3::5] = -15\n",
    "x[4::5] = 4.33\n",
    "x[-2] = -14\n",
    "x[-1] = 4.33"
   ]
  },
  {
   "cell_type": "code",
   "execution_count": null,
   "metadata": {
    "collapsed": false
   },
   "outputs": [],
   "source": [
    "%lprun -f model.get_likelihood model.get_likelihood(x)"
   ]
  }
 ],
 "metadata": {
  "kernelspec": {
   "display_name": "Python 2",
   "language": "python",
   "name": "python2"
  },
  "language_info": {
   "codemirror_mode": {
    "name": "ipython",
    "version": 2
   },
   "file_extension": ".py",
   "mimetype": "text/x-python",
   "name": "python",
   "nbconvert_exporter": "python",
   "pygments_lexer": "ipython2",
   "version": "2.7.12"
  }
 },
 "nbformat": 4,
 "nbformat_minor": 0
}
